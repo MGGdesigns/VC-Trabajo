{
 "cells": [
  {
   "cell_type": "code",
   "execution_count": 1,
   "metadata": {},
   "outputs": [],
   "source": [
    "import cv2\n",
    "import mediapipe as mp"
   ]
  },
  {
   "cell_type": "code",
   "execution_count": 31,
   "metadata": {},
   "outputs": [],
   "source": [
    "mp_drawing = mp.solutions.drawing_utils\n",
    "mp_pose = mp.solutions.pose\n",
    "\n",
    "cap = cv2.VideoCapture(0, cv2.CAP_DSHOW)\n",
    "\n",
    "pose = mp_pose.Pose(static_image_mode=False)\n",
    "\n",
    "while True:\n",
    "    ret, frame = cap.read()\n",
    "    if not ret:\n",
    "        break\n",
    "\n",
    "    frame_rgb = cv2.cvtColor(frame, cv2.COLOR_BGR2RGB)\n",
    "    results = pose.process(frame_rgb)\n",
    "\n",
    "    if results.pose_landmarks is not None:\n",
    "        mp_drawing.draw_landmarks(\n",
    "            frame, results.pose_landmarks, mp_pose.POSE_CONNECTIONS,\n",
    "            mp_drawing.DrawingSpec(color=(128, 0, 250), thickness=2, circle_radius=3),\n",
    "            mp_drawing.DrawingSpec(color=(255, 255, 255), thickness=2)\n",
    "        )\n",
    "\n",
    "        frame = cv2.flip(frame, 1)\n",
    "        height, width, _ = frame.shape\n",
    "\n",
    "        landmarks = results.pose_landmarks.landmark\n",
    "        right_wrist = landmarks[mp_pose.PoseLandmark.RIGHT_WRIST]\n",
    "        left_wrist = landmarks[mp_pose.PoseLandmark.LEFT_WRIST]\n",
    "        right_ankle = landmarks[mp_pose.PoseLandmark.RIGHT_ANKLE]\n",
    "        left_ankle = landmarks[mp_pose.PoseLandmark.LEFT_ANKLE]\n",
    "\n",
    "        right_wrist_coords = (int(right_wrist.x * width), int(right_wrist.y * height))\n",
    "        left_wrist_coords = (int(left_wrist.x * width), int(left_wrist.y * height))\n",
    "        right_ankle_coords = (int(right_ankle.x * width), int(right_ankle.y * height))\n",
    "        left_ankle_coords = (int(left_ankle.x * width), int(left_ankle.y * height))\n",
    "\n",
    "        cv2.putText(frame, f\"M Derecha: {right_wrist_coords}\", (10, 30), cv2.FONT_HERSHEY_SIMPLEX, 0.5, (0, 255, 255), 2)\n",
    "        cv2.putText(frame, f\"M Izquierda: {left_wrist_coords}\", (10, 50), cv2.FONT_HERSHEY_SIMPLEX, 0.5, (255, 0, 0), 2)\n",
    "        cv2.putText(frame, f\"P Derecha: {right_ankle_coords}\", (10, 70), cv2.FONT_HERSHEY_SIMPLEX, 0.5, (0, 255, 0), 2)\n",
    "        cv2.putText(frame, f\"P Izquierda: {left_ankle_coords}\", (10, 90), cv2.FONT_HERSHEY_SIMPLEX, 0.5, (0, 0, 255), 2)\n",
    "\n",
    "    cv2.imshow(\"Frame\", frame)\n",
    "\n",
    "    if cv2.waitKey(1) & 0xFF == 27:\n",
    "        break\n",
    "\n",
    "cap.release()\n",
    "cv2.destroyAllWindows()\n"
   ]
  }
 ],
 "metadata": {
  "kernelspec": {
   "display_name": "VC_Trabajo",
   "language": "python",
   "name": "python3"
  },
  "language_info": {
   "codemirror_mode": {
    "name": "ipython",
    "version": 3
   },
   "file_extension": ".py",
   "mimetype": "text/x-python",
   "name": "python",
   "nbconvert_exporter": "python",
   "pygments_lexer": "ipython3",
   "version": "3.11.5"
  }
 },
 "nbformat": 4,
 "nbformat_minor": 2
}
